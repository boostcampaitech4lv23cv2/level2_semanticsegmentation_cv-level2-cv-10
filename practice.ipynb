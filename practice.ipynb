{
 "cells": [
  {
   "cell_type": "code",
   "execution_count": 1,
   "metadata": {},
   "outputs": [
    {
     "ename": "TypeError",
     "evalue": "exec() takes no keyword arguments",
     "output_type": "error",
     "traceback": [
      "\u001b[0;31m---------------------------------------------------------------------------\u001b[0m",
      "\u001b[0;31mTypeError\u001b[0m                                 Traceback (most recent call last)",
      "Cell \u001b[0;32mIn[1], line 12\u001b[0m\n\u001b[1;32m      9\u001b[0m     \u001b[39mprint\u001b[39m(model\u001b[39m.\u001b[39mencoder\u001b[39m.\u001b[39mbn1)\n\u001b[1;32m     11\u001b[0m \u001b[39mif\u001b[39;00m \u001b[39m__name__\u001b[39m \u001b[39m==\u001b[39m \u001b[39m\"\u001b[39m\u001b[39m__main__\u001b[39m\u001b[39m\"\u001b[39m:\n\u001b[0;32m---> 12\u001b[0m     train()\n\u001b[1;32m     13\u001b[0m     \u001b[39mprint\u001b[39m(model\u001b[39m.\u001b[39mencoder\u001b[39m.\u001b[39mconv1)\n",
      "Cell \u001b[0;32mIn[1], line 8\u001b[0m, in \u001b[0;36mtrain\u001b[0;34m()\u001b[0m\n\u001b[1;32m      6\u001b[0m \u001b[39mfor\u001b[39;00m line \u001b[39min\u001b[39;00m model_file:\n\u001b[1;32m      7\u001b[0m     model_str \u001b[39m+\u001b[39m\u001b[39m=\u001b[39m line\n\u001b[0;32m----> 8\u001b[0m exec(model_str, \u001b[39mglobals\u001b[39;49m\u001b[39m=\u001b[39;49m\u001b[39mglobals\u001b[39;49m(), \u001b[39mlocals\u001b[39;49m\u001b[39m=\u001b[39;49m\u001b[39mNone\u001b[39;49;00m)\n\u001b[1;32m      9\u001b[0m \u001b[39mprint\u001b[39m(model\u001b[39m.\u001b[39mencoder\u001b[39m.\u001b[39mbn1)\n",
      "\u001b[0;31mTypeError\u001b[0m: exec() takes no keyword arguments"
     ]
    }
   ],
   "source": [
    "def train():\n",
    "    with open('model/test.py', 'r') as f:\n",
    "        model_file = f.readlines()\n",
    "\n",
    "    model_str = ''\n",
    "    for line in model_file:\n",
    "        model_str += line\n",
    "    exec(model_str, globals())\n",
    "    print(model.encoder.bn1)\n",
    "    \n",
    "if __name__ == \"__main__\":\n",
    "    train()\n",
    "    print(model.encoder.conv1)"
   ]
  },
  {
   "cell_type": "code",
   "execution_count": null,
   "metadata": {},
   "outputs": [],
   "source": []
  }
 ],
 "metadata": {
  "kernelspec": {
   "display_name": "base",
   "language": "python",
   "name": "python3"
  },
  "language_info": {
   "codemirror_mode": {
    "name": "ipython",
    "version": 3
   },
   "file_extension": ".py",
   "mimetype": "text/x-python",
   "name": "python",
   "nbconvert_exporter": "python",
   "pygments_lexer": "ipython3",
   "version": "3.8.5"
  },
  "orig_nbformat": 4,
  "vscode": {
   "interpreter": {
    "hash": "d4d1e4263499bec80672ea0156c357c1ee493ec2b1c70f0acce89fc37c4a6abe"
   }
  }
 },
 "nbformat": 4,
 "nbformat_minor": 2
}
