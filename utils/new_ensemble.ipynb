{
 "cells": [
  {
   "cell_type": "code",
   "execution_count": 1,
   "metadata": {},
   "outputs": [],
   "source": [
    "import pandas as pd\n",
    "import numpy as np\n",
    "from tqdm import tqdm\n",
    "\n",
    "# df_4 = pd.read_csv('/opt/ml/input/level2_semanticsegmentation_cv-level2-cv-10/csv_final/pan_mit_b3_ttaV2.csv')\n",
    "df_3 = pd.read_csv('/opt/ml/input/level2_semanticsegmentation_cv-level2-cv-10/csv_final/hard_voting_5models.csv')\n",
    "df_1 = pd.read_csv('/opt/ml/input/level2_semanticsegmentation_cv-level2-cv-10/csv_final/knet_soup.csv')\n",
    "df_2 = pd.read_csv('/opt/ml/input/level2_semanticsegmentation_cv-level2-cv-10/csv_final/pan_swin_ens.csv')"
   ]
  },
  {
   "cell_type": "code",
   "execution_count": 5,
   "metadata": {},
   "outputs": [
    {
     "name": "stderr",
     "output_type": "stream",
     "text": [
      "100%|██████████| 819/819 [06:42<00:00,  2.03it/s]\n"
     ]
    }
   ],
   "source": [
    "PredictionString = []\n",
    "\n",
    "for idx in tqdm(range(len(df_1))):\n",
    "    aa = df_1['PredictionString'][idx].split(' ')\n",
    "    bb = df_2['PredictionString'][idx].split(' ')\n",
    "    cc = df_3['PredictionString'][idx].split(' ')\n",
    "    # dd = df_4['PredictionString'][idx].split(' ')\n",
    "    \n",
    "    result = ''\n",
    "\n",
    "    for i in range(len(aa)):\n",
    "        pixel_dict = {'0' : 0, '1' : 0, '2' : 0, \n",
    "                      '3' : 0, '4' : 0, '5' : 0,\n",
    "                      '6' : 0, '7' : 0, '8' : 0,\n",
    "                      '9' : 0, '10' : 0}\n",
    "\n",
    "        best_model = aa[i]\n",
    "        second_model = bb[i]\n",
    "        third_model = cc[i]\n",
    "        \n",
    "        pixel_dict[aa[i]] += 1\n",
    "        pixel_dict[bb[i]] += 1\n",
    "        pixel_dict[cc[i]] += 1\n",
    "        # pixel_dict[dd[i]] += 1\n",
    "\n",
    "        # 최댓값을 갖는 키값 추출\n",
    "        pixel = [key for key, value in pixel_dict.items() if value == max(pixel_dict.values())]\n",
    "        \n",
    "        # ensemble 모델이 ~4개\n",
    "        # 만약 최댓값을 갖는 키가 2개 이상(같은 표를 가진 경우)이고,\n",
    "        # best_model이 영향력을 행사했다면\n",
    "        if len(pixel) >= 2 and best_model in pixel:\n",
    "            result += best_model + ' '\n",
    "        \n",
    "        # ensemble 모델이 5개~6개\n",
    "        # 만약 최댓값을 갖는 키가 2개 이상(같은 표를 가진 경우)이고,\n",
    "        # best_model이 outsider, second_model이 영향력을 행사했다면\n",
    "        elif len(pixel) >= 2 and second_model in pixel:\n",
    "            result += second_model + ' '\n",
    "            \n",
    "        # 만약 1개라면 해당 키 반환\n",
    "        else:\n",
    "            result += pixel[0] + ' '\n",
    "\n",
    "    # 마지막 공백 제거\n",
    "    result = result[:-1]\n",
    "    PredictionString.append(result)\n"
   ]
  },
  {
   "cell_type": "code",
   "execution_count": 6,
   "metadata": {},
   "outputs": [],
   "source": [
    "submission = pd.DataFrame()\n",
    "submission['image_id'] = df_1['image_id']\n",
    "submission['PredictionString'] = PredictionString"
   ]
  },
  {
   "cell_type": "code",
   "execution_count": 7,
   "metadata": {},
   "outputs": [],
   "source": [
    "submission.to_csv('/opt/ml/input/level2_semanticsegmentation_cv-level2-cv-10/csv_final/hard_voting_models_v2.csv', index=False)"
   ]
  }
 ],
 "metadata": {
  "kernelspec": {
   "display_name": "base",
   "language": "python",
   "name": "python3"
  },
  "language_info": {
   "codemirror_mode": {
    "name": "ipython",
    "version": 3
   },
   "file_extension": ".py",
   "mimetype": "text/x-python",
   "name": "python",
   "nbconvert_exporter": "python",
   "pygments_lexer": "ipython3",
   "version": "3.8.5"
  },
  "orig_nbformat": 4,
  "vscode": {
   "interpreter": {
    "hash": "d4d1e4263499bec80672ea0156c357c1ee493ec2b1c70f0acce89fc37c4a6abe"
   }
  }
 },
 "nbformat": 4,
 "nbformat_minor": 2
}
